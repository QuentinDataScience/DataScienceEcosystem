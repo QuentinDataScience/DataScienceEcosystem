{
 "cells": [
  {
   "cell_type": "markdown",
   "id": "5b9e8f5e-4c3d-4aac-85c4-e3e2b24a0fab",
   "metadata": {},
   "source": [
    "# Data Science Tools and Ecosystem"
   ]
  },
  {
   "cell_type": "markdown",
   "id": "7a47d449-b919-4ce9-85cb-f5867f9df7ee",
   "metadata": {},
   "source": [
    "In this notebook, Data Science Tools and Ecosystem are summarized."
   ]
  },
  {
   "cell_type": "markdown",
   "id": "55d37f9e-bfdf-4c79-b362-91c89d0e432f",
   "metadata": {},
   "source": [
    "**Objectives :**\n",
    "* List of popular languages used by data analysts\n",
    "* Commonly used Libraries\n",
    "* Examples of arithmetic expressions\n",
    "* Arithmetic expression\n",
    "* Minutes to hours converter\n"
   ]
  },
  {
   "cell_type": "markdown",
   "id": "d16ca1cf-d235-4469-98f7-b4803892d1bf",
   "metadata": {},
   "source": [
    "Some of the popular languages that data scientist use are :\n",
    "1. python\n",
    "2. SQL\n",
    "3. R \n",
    "4. Java"
   ]
  },
  {
   "cell_type": "markdown",
   "id": "3c3c462b-05de-4e5e-adc5-8e62891a3e9d",
   "metadata": {},
   "source": [
    "Some of the commonly used libraries used by Data Scientists include:\n",
    "1. TensorFlow\n",
    "2. Pandas\n",
    "3. NumPy"
   ]
  },
  {
   "cell_type": "markdown",
   "id": "8764fe4d-1cd9-49a9-833e-fa4ee6936d96",
   "metadata": {},
   "source": [
    "### Below are a few examples of evaluating arithmetic expressions in Python.\n",
    "1 + 2\n",
    "3 - 1\n",
    "3 * 4"
   ]
  },
  {
   "cell_type": "code",
   "execution_count": 4,
   "id": "34d75804-b1ee-4e00-af51-8236c3968a95",
   "metadata": {
    "tags": []
   },
   "outputs": [
    {
     "data": {
      "text/plain": [
       "17"
      ]
     },
     "execution_count": 4,
     "metadata": {},
     "output_type": "execute_result"
    }
   ],
   "source": [
    "#This a simple arithmetic expression to mutiply then add integers#\n",
    "(3 * 4)+5"
   ]
  },
  {
   "cell_type": "code",
   "execution_count": 3,
   "id": "bdc7a1bf-f5b2-46ac-8b62-de581098437e",
   "metadata": {
    "tags": []
   },
   "outputs": [
    {
     "data": {
      "text/plain": [
       "3.3333333333333335"
      ]
     },
     "execution_count": 3,
     "metadata": {},
     "output_type": "execute_result"
    }
   ],
   "source": [
    "#This will convert 200 minutes to hours by diving by 60#\n",
    "200 / 60"
   ]
  },
  {
   "cell_type": "markdown",
   "id": "fc3fa5ca-c705-46c2-94f1-4c22ff0e6105",
   "metadata": {},
   "source": [
    "## Author\n",
    "Quentin Monteil"
   ]
  },
  {
   "cell_type": "code",
   "execution_count": null,
   "id": "e35f6379-1963-47e4-8fd3-06e3cfdaedfb",
   "metadata": {},
   "outputs": [],
   "source": []
  }
 ],
 "metadata": {
  "kernelspec": {
   "display_name": "Python 3 (ipykernel)",
   "language": "python",
   "name": "python3"
  },
  "language_info": {
   "codemirror_mode": {
    "name": "ipython",
    "version": 3
   },
   "file_extension": ".py",
   "mimetype": "text/x-python",
   "name": "python",
   "nbconvert_exporter": "python",
   "pygments_lexer": "ipython3",
   "version": "3.11.3"
  }
 },
 "nbformat": 4,
 "nbformat_minor": 5
}
